{
 "cells": [
  {
   "cell_type": "code",
   "execution_count": 18,
   "metadata": {},
   "outputs": [],
   "source": [
    "import pandas as pd\n",
    "import numpy as np\n",
    "import matplotlib.pyplot as plt\n",
    "import matplotlib\n",
    "matplotlib.style.use('ggplot')\n",
    "#pd.__version__\n",
    "%matplotlib inline"
   ]
  },
  {
   "cell_type": "code",
   "execution_count": 19,
   "metadata": {},
   "outputs": [
    {
     "data": {
      "text/html": [
       "<div>\n",
       "<style>\n",
       "    .dataframe thead tr:only-child th {\n",
       "        text-align: right;\n",
       "    }\n",
       "\n",
       "    .dataframe thead th {\n",
       "        text-align: left;\n",
       "    }\n",
       "\n",
       "    .dataframe tbody tr th {\n",
       "        vertical-align: top;\n",
       "    }\n",
       "</style>\n",
       "<table border=\"1\" class=\"dataframe\">\n",
       "  <thead>\n",
       "    <tr style=\"text-align: right;\">\n",
       "      <th></th>\n",
       "      <th>unique_id</th>\n",
       "      <th>price_paid</th>\n",
       "      <th>postcode</th>\n",
       "      <th>property_type</th>\n",
       "      <th>new_build</th>\n",
       "      <th>estate_type</th>\n",
       "      <th>saon</th>\n",
       "      <th>paon</th>\n",
       "      <th>street</th>\n",
       "      <th>locality</th>\n",
       "      <th>town</th>\n",
       "      <th>district</th>\n",
       "      <th>county</th>\n",
       "      <th>transaction_category</th>\n",
       "      <th>linked_data_uri</th>\n",
       "    </tr>\n",
       "    <tr>\n",
       "      <th>deed_date</th>\n",
       "      <th></th>\n",
       "      <th></th>\n",
       "      <th></th>\n",
       "      <th></th>\n",
       "      <th></th>\n",
       "      <th></th>\n",
       "      <th></th>\n",
       "      <th></th>\n",
       "      <th></th>\n",
       "      <th></th>\n",
       "      <th></th>\n",
       "      <th></th>\n",
       "      <th></th>\n",
       "      <th></th>\n",
       "      <th></th>\n",
       "    </tr>\n",
       "  </thead>\n",
       "  <tbody>\n",
       "    <tr>\n",
       "      <th>2009-08-17</th>\n",
       "      <td>F3AACEA2-544E-44C2-9267-A12F779CB09A</td>\n",
       "      <td>240000</td>\n",
       "      <td>CB1 1AJ</td>\n",
       "      <td>F</td>\n",
       "      <td>Y</td>\n",
       "      <td>L</td>\n",
       "      <td>1</td>\n",
       "      <td>GUTHRIE COURT</td>\n",
       "      <td>PARADISE STREET</td>\n",
       "      <td>NaN</td>\n",
       "      <td>CAMBRIDGE</td>\n",
       "      <td>CAMBRIDGE</td>\n",
       "      <td>CAMBRIDGESHIRE</td>\n",
       "      <td>A</td>\n",
       "      <td>http://landregistry.data.gov.uk/data/ppi/trans...</td>\n",
       "    </tr>\n",
       "    <tr>\n",
       "      <th>2016-07-08</th>\n",
       "      <td>404A5AF3-2979-CD2B-E050-A8C063055C7B</td>\n",
       "      <td>350000</td>\n",
       "      <td>CB1 1AJ</td>\n",
       "      <td>F</td>\n",
       "      <td>Y</td>\n",
       "      <td>L</td>\n",
       "      <td>13</td>\n",
       "      <td>GUTHRIE COURT</td>\n",
       "      <td>PARADISE STREET</td>\n",
       "      <td>NaN</td>\n",
       "      <td>CAMBRIDGE</td>\n",
       "      <td>CAMBRIDGE</td>\n",
       "      <td>CAMBRIDGESHIRE</td>\n",
       "      <td>A</td>\n",
       "      <td>http://landregistry.data.gov.uk/data/ppi/trans...</td>\n",
       "    </tr>\n",
       "    <tr>\n",
       "      <th>2016-09-16</th>\n",
       "      <td>404A5AF3-29C7-CD2B-E050-A8C063055C7B</td>\n",
       "      <td>500000</td>\n",
       "      <td>CB1 1AJ</td>\n",
       "      <td>F</td>\n",
       "      <td>Y</td>\n",
       "      <td>L</td>\n",
       "      <td>15</td>\n",
       "      <td>GUTHRIE COURT</td>\n",
       "      <td>PARADISE STREET</td>\n",
       "      <td>NaN</td>\n",
       "      <td>CAMBRIDGE</td>\n",
       "      <td>CAMBRIDGE</td>\n",
       "      <td>CAMBRIDGESHIRE</td>\n",
       "      <td>A</td>\n",
       "      <td>http://landregistry.data.gov.uk/data/ppi/trans...</td>\n",
       "    </tr>\n",
       "    <tr>\n",
       "      <th>2009-05-14</th>\n",
       "      <td>DDBCCBFE-BEB7-41DB-8CD1-41D4D771B7B9</td>\n",
       "      <td>290000</td>\n",
       "      <td>CB1 1AJ</td>\n",
       "      <td>F</td>\n",
       "      <td>Y</td>\n",
       "      <td>L</td>\n",
       "      <td>5</td>\n",
       "      <td>GUTHRIE COURT</td>\n",
       "      <td>PARADISE STREET</td>\n",
       "      <td>NaN</td>\n",
       "      <td>CAMBRIDGE</td>\n",
       "      <td>CAMBRIDGE</td>\n",
       "      <td>CAMBRIDGESHIRE</td>\n",
       "      <td>A</td>\n",
       "      <td>http://landregistry.data.gov.uk/data/ppi/trans...</td>\n",
       "    </tr>\n",
       "    <tr>\n",
       "      <th>2009-09-07</th>\n",
       "      <td>DF758951-B876-4848-ADBA-730FB1DCD92F</td>\n",
       "      <td>272500</td>\n",
       "      <td>CB1 1AJ</td>\n",
       "      <td>F</td>\n",
       "      <td>Y</td>\n",
       "      <td>L</td>\n",
       "      <td>6</td>\n",
       "      <td>GUTHRIE COURT</td>\n",
       "      <td>PARADISE STREET</td>\n",
       "      <td>NaN</td>\n",
       "      <td>CAMBRIDGE</td>\n",
       "      <td>CAMBRIDGE</td>\n",
       "      <td>CAMBRIDGESHIRE</td>\n",
       "      <td>A</td>\n",
       "      <td>http://landregistry.data.gov.uk/data/ppi/trans...</td>\n",
       "    </tr>\n",
       "  </tbody>\n",
       "</table>\n",
       "</div>"
      ],
      "text/plain": [
       "                                       unique_id  price_paid postcode  \\\n",
       "deed_date                                                               \n",
       "2009-08-17  F3AACEA2-544E-44C2-9267-A12F779CB09A      240000  CB1 1AJ   \n",
       "2016-07-08  404A5AF3-2979-CD2B-E050-A8C063055C7B      350000  CB1 1AJ   \n",
       "2016-09-16  404A5AF3-29C7-CD2B-E050-A8C063055C7B      500000  CB1 1AJ   \n",
       "2009-05-14  DDBCCBFE-BEB7-41DB-8CD1-41D4D771B7B9      290000  CB1 1AJ   \n",
       "2009-09-07  DF758951-B876-4848-ADBA-730FB1DCD92F      272500  CB1 1AJ   \n",
       "\n",
       "           property_type new_build estate_type saon           paon  \\\n",
       "deed_date                                                            \n",
       "2009-08-17             F         Y           L    1  GUTHRIE COURT   \n",
       "2016-07-08             F         Y           L   13  GUTHRIE COURT   \n",
       "2016-09-16             F         Y           L   15  GUTHRIE COURT   \n",
       "2009-05-14             F         Y           L    5  GUTHRIE COURT   \n",
       "2009-09-07             F         Y           L    6  GUTHRIE COURT   \n",
       "\n",
       "                     street locality       town   district          county  \\\n",
       "deed_date                                                                    \n",
       "2009-08-17  PARADISE STREET      NaN  CAMBRIDGE  CAMBRIDGE  CAMBRIDGESHIRE   \n",
       "2016-07-08  PARADISE STREET      NaN  CAMBRIDGE  CAMBRIDGE  CAMBRIDGESHIRE   \n",
       "2016-09-16  PARADISE STREET      NaN  CAMBRIDGE  CAMBRIDGE  CAMBRIDGESHIRE   \n",
       "2009-05-14  PARADISE STREET      NaN  CAMBRIDGE  CAMBRIDGE  CAMBRIDGESHIRE   \n",
       "2009-09-07  PARADISE STREET      NaN  CAMBRIDGE  CAMBRIDGE  CAMBRIDGESHIRE   \n",
       "\n",
       "           transaction_category  \\\n",
       "deed_date                         \n",
       "2009-08-17                    A   \n",
       "2016-07-08                    A   \n",
       "2016-09-16                    A   \n",
       "2009-05-14                    A   \n",
       "2009-09-07                    A   \n",
       "\n",
       "                                              linked_data_uri  \n",
       "deed_date                                                      \n",
       "2009-08-17  http://landregistry.data.gov.uk/data/ppi/trans...  \n",
       "2016-07-08  http://landregistry.data.gov.uk/data/ppi/trans...  \n",
       "2016-09-16  http://landregistry.data.gov.uk/data/ppi/trans...  \n",
       "2009-05-14  http://landregistry.data.gov.uk/data/ppi/trans...  \n",
       "2009-09-07  http://landregistry.data.gov.uk/data/ppi/trans...  "
      ]
     },
     "execution_count": 19,
     "metadata": {},
     "output_type": "execute_result"
    }
   ],
   "source": [
    "#http://www.cutsquash.com/2015/02/visualising-house-price-data-ipython/\n",
    "df = pd.read_csv('ppd_data.csv',parse_dates=[2],index_col=2)\n",
    "cropDf = df.dropna(subset=['postcode'])\n",
    "cropDf.head()"
   ]
  },
  {
   "cell_type": "code",
   "execution_count": 20,
   "metadata": {},
   "outputs": [
    {
     "name": "stdout",
     "output_type": "stream",
     "text": [
      "(20061, 15)\n",
      "(20061, 15)\n"
     ]
    }
   ],
   "source": [
    "print(df.shape)\n",
    "print(cropDf.shape)"
   ]
  },
  {
   "cell_type": "code",
   "execution_count": 21,
   "metadata": {},
   "outputs": [
    {
     "data": {
      "text/plain": [
       "count    2.006100e+04\n",
       "mean     2.349394e+05\n",
       "std      2.836125e+05\n",
       "min      5.500000e+03\n",
       "25%      1.150000e+05\n",
       "50%      1.909500e+05\n",
       "75%      2.900000e+05\n",
       "max      2.034900e+07\n",
       "Name: price_paid, dtype: float64"
      ]
     },
     "execution_count": 21,
     "metadata": {},
     "output_type": "execute_result"
    }
   ],
   "source": [
    "df['price_paid'].describe()"
   ]
  },
  {
   "cell_type": "code",
   "execution_count": 22,
   "metadata": {},
   "outputs": [
    {
     "data": {
      "text/plain": [
       "unique_id                            288DCE2A-08D8-E510-E050-A8C06205480E\n",
       "price_paid                                                       20349000\n",
       "postcode                                                          CB1 2JY\n",
       "property_type                                                           O\n",
       "new_build                                                               N\n",
       "estate_type                                                             L\n",
       "saon                                                                  NaN\n",
       "paon                                                           KETT HOUSE\n",
       "street                                                       STATION ROAD\n",
       "locality                                                              NaN\n",
       "town                                                            CAMBRIDGE\n",
       "district                                                        CAMBRIDGE\n",
       "county                                                     CAMBRIDGESHIRE\n",
       "transaction_category                                                    B\n",
       "linked_data_uri         http://landregistry.data.gov.uk/data/ppi/trans...\n",
       "Name: 2015-11-26 00:00:00, dtype: object"
      ]
     },
     "execution_count": 22,
     "metadata": {},
     "output_type": "execute_result"
    }
   ],
   "source": [
    "# What is the most expensive house sale?\n",
    "df.loc[df['price_paid'].idxmax()]"
   ]
  },
  {
   "cell_type": "code",
   "execution_count": 51,
   "metadata": {},
   "outputs": [
    {
     "name": "stdout",
     "output_type": "stream",
     "text": [
      "Average price paid = £ 458235\n",
      "Average price paid = £ 77665\n"
     ]
    },
    {
     "data": {
      "image/png": "[encoded data removed]",
      "text/plain": [
       "<matplotlib.figure.Figure at 0xa7c5580c>"
      ]
     },
     "metadata": {},
     "output_type": "display_data"
    }
   ],
   "source": [
    "print('Average price paid = £ %d' % np.mean(df['2016']['price_paid']))\n",
    "print('Average price paid = £ %d' % np.mean(df['1995']['price_paid']))\n",
    "\n",
    "plt.subplot(1, 2, 1)\n",
    "plt.boxplot(df['2016']['price_paid'],70)\n",
    "plt.ylim([0, 1e6])\n",
    "plt.xlabel('Purchase price (GBP)')\n",
    "plt.ylabel('Frequency')\n",
    "plt.title(\"House prices in 2016\")\n",
    "\n",
    "plt.subplot(1, 2, 2)\n",
    "plt.boxplot(df['1995']['price_paid'],70)\n",
    "plt.ylim([0, 1e6])\n",
    "plt.xlabel('Purchase price (GBP)')\n",
    "plt.ylabel('Frequency')\n",
    "plt.title(\"House prices in 2016\")\n",
    "plt.show()"
   ]
  },
  {
   "cell_type": "code",
   "execution_count": 53,
   "metadata": {},
   "outputs": [
    {
     "name": "stdout",
     "output_type": "stream",
     "text": [
      "DatetimeIndex(['2009-08-17', '2016-07-08', '2016-09-16', '2009-05-14',\n",
      "               '2009-09-07', '2011-07-29', '2008-09-30', '2012-03-02',\n",
      "               '2012-05-04', '2012-06-12',\n",
      "               ...\n",
      "               '1997-04-11', '2009-02-17', '2005-03-18', '1995-01-27',\n",
      "               '2002-12-12', '1995-03-01', '2002-12-19', '1998-06-29',\n",
      "               '1996-10-18', '1998-05-29'],\n",
      "              dtype='datetime64[ns]', name='deed_date', length=20061, freq=None)\n"
     ]
    },
    {
     "data": {
      "image/png": "[encoded data removed]",
      "text/plain": [
       "<matplotlib.figure.Figure at 0xa7f05cac>"
      ]
     },
     "metadata": {},
     "output_type": "display_data"
    }
   ],
   "source": [
    "print(df.index)\n",
    "monthMeans = df['price_paid'].groupby(df.index.year).aggregate(np.mean)\n",
    "plt.plot(monthMeans)\n",
    "plt.xlabel('Month')\n",
    "plt.ylabel('Mean purchase price (GBP)')\n",
    "plt.show()"
   ]
  },
  {
   "cell_type": "code",
   "execution_count": 25,
   "metadata": {},
   "outputs": [
    {
     "data": {
      "image/png": "[encoded data removed]",
      "text/plain": [
       "<matplotlib.figure.Figure at 0xb414228c>"
      ]
     },
     "metadata": {},
     "output_type": "display_data"
    }
   ],
   "source": [
    "numSalesByMonth = df['price_paid'].groupby(df.index.month).aggregate(len)\n",
    "plt.plot(numSalesByMonth)\n",
    "#plt.ylim([0, 500])\n",
    "plt.xlabel('Month')\n",
    "plt.ylabel('# sales')\n",
    "plt.show()"
   ]
  }
 ],
 "metadata": {
  "kernelspec": {
   "display_name": "Python 3",
   "language": "python",
   "name": "python3"
  },
  "language_info": {
   "codemirror_mode": {
    "name": "ipython",
    "version": 3
   },
   "file_extension": ".py",
   "mimetype": "text/x-python",
   "name": "python",
   "nbconvert_exporter": "python",
   "pygments_lexer": "ipython3",
   "version": "3.6.1"
  }
 },
 "nbformat": 4,
 "nbformat_minor": 2
}
